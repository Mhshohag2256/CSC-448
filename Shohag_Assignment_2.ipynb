{
  "nbformat": 4,
  "nbformat_minor": 0,
  "metadata": {
    "colab": {
      "name": "Shohag_Assignment_2.ipynb",
      "provenance": [],
      "authorship_tag": "ABX9TyP1Wm3pFd1xMAn1CKizegzW",
      "include_colab_link": true
    },
    "kernelspec": {
      "name": "python3",
      "display_name": "Python 3"
    },
    "language_info": {
      "name": "python"
    }
  },
  "cells": [
    {
      "cell_type": "markdown",
      "metadata": {
        "id": "view-in-github",
        "colab_type": "text"
      },
      "source": [
        "<a href=\"https://colab.research.google.com/github/Mhshohag2256/CSC-448/blob/main/Shohag_Assignment_2.ipynb\" target=\"_parent\"><img src=\"https://colab.research.google.com/assets/colab-badge.svg\" alt=\"Open In Colab\"/></a>"
      ]
    },
    {
      "cell_type": "markdown",
      "source": [
        "<h1><b> Mehedi H Shohag"
      ],
      "metadata": {
        "id": "1RWHqskwk6rG"
      }
    },
    {
      "cell_type": "markdown",
      "source": [
        "Here is a simple problem which is to calculate the maximum sum of a contiguous subarray. For example, here is a list of numbers, \n",
        "number = [-2, 1, -3, 4, -1, 2, 1, -5, 4]\n",
        "The subarray that contains the maximum sum is [4, -1, 2, 1] = 6\n",
        "There are different ways to solve this problem but a famous algorithm which is known as [Kadanes Algorithm](https://en.wikipedia.org/wiki/Maximum_subarray_problem#:~:text=in%20an%20image.-,Kadane%27s%20algorithm,-%5Bedit%5D) is efficient and optimal way to solve this problem.\n",
        "\n",
        "I followed the sliding window technique and where maxSum will keep track of the maximum sum of a subarray and windowSum will keep track of the most recent sum of any subarray while traversing through the array. At the end maxSum will have the maximum sum of the subarray and I will just return it.\n",
        "Since we are traversing through the array only once, so the time complexity for this algorithm will be O(n) where n is the length of the array and Space complexity will be constant O(1), because we are not allocating any additional memory in stead we just keeping track of two variable which is constant operation.\n",
        "Here is a little modified version of Kadanes Algorithm."
      ],
      "metadata": {
        "id": "Eesjvj6jk-wN"
      }
    },
    {
      "cell_type": "code",
      "source": [
        "def maxSumSubarray_KadanesAlgorithm(array):\n",
        "    windowSum = array[0]\n",
        "    maxSum = array[0]\n",
        "\n",
        "    for r in range(1, len(array)):\n",
        "        if windowSum < 0:\n",
        "            windowSum = array[r]\n",
        "        else:\n",
        "            windowSum += array[r]\n",
        "        maxSum = max(windowSum, maxSum)\n",
        "    return maxSum\n",
        "\n",
        "\n",
        "array = [-2, 1, -3, 4, -1, 2, 1, -5, 4]\n",
        "\n",
        "print(maxSumSubarray_KadanesAlgorithm(array))"
      ],
      "metadata": {
        "colab": {
          "base_uri": "https://localhost:8080/"
        },
        "id": "8PAhLWallmOF",
        "outputId": "6265bee1-0e31-45f8-a9fe-a0934b35f208"
      },
      "execution_count": 2,
      "outputs": [
        {
          "output_type": "stream",
          "name": "stdout",
          "text": [
            "6\n"
          ]
        }
      ]
    }
  ]
}