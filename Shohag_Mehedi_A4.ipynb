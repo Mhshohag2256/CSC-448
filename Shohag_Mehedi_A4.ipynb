{
  "cells": [
    {
      "cell_type": "markdown",
      "metadata": {
        "id": "view-in-github",
        "colab_type": "text"
      },
      "source": [
        "<a href=\"https://colab.research.google.com/github/Mhshohag2256/CSC-448/blob/main/Shohag_Mehedi_A4.ipynb\" target=\"_parent\"><img src=\"https://colab.research.google.com/assets/colab-badge.svg\" alt=\"Open In Colab\"/></a>"
      ]
    },
    {
      "cell_type": "markdown",
      "metadata": {
        "id": "kkEvyCIsekCc"
      },
      "source": [
        "\n",
        "<a href=\"https://drive.google.com/file/d/1w8zswna71rISws8MUs1_7C23db2goH97/view?usp=sharing" target=\"_parent\"><img src=\"https://colab.research.google.com/assets/colab-badge.svg\" alt=\"Open In Colab\"/></a>\n"
      ]
    },
    {
      "cell_type": "markdown",
      "metadata": {
        "id": "fePbLzpW0Q2o"
      },
      "source": [
        "# Mehedi H Shohag"
      ]
    },
    {
      "cell_type": "code",
      "execution_count": null,
      "metadata": {
        "id": "S8PKiVJaL_AW"
      },
      "outputs": [],
      "source": [
        "# Imports and pip installations (if needed)\n",
        "import numpy as np\n",
        "import pandas as pd\n",
        "from sklearn import svm, datasets\n",
        "from sklearn.preprocessing import StandardScaler\n",
        "from sklearn.linear_model import LogisticRegression\n",
        "from sklearn.neural_network import MLPClassifier\n",
        "from sklearn.neighbors import KNeighborsClassifier\n",
        "from sklearn.model_selection import train_test_split\n",
        "import warnings\n",
        "warnings.filterwarnings('ignore')"
      ]
    },
    {
      "cell_type": "markdown",
      "metadata": {
        "id": "A05Q5B0_NUX9"
      },
      "source": [
        "# Part 1: Load the dataset"
      ]
    },
    {
      "cell_type": "code",
      "execution_count": null,
      "metadata": {
        "colab": {
          "base_uri": "https://localhost:8080/",
          "height": 735
        },
        "id": "YZ4MUsbXNZ0P",
        "outputId": "77e7a628-792f-4d28-b7b1-e06f4db3efd3"
      },
      "outputs": [
        {
          "name": "stdout",
          "output_type": "stream",
          "text": [
            "<class 'pandas.core.frame.DataFrame'>\n",
            "RangeIndex: 150 entries, 0 to 149\n",
            "Data columns (total 5 columns):\n",
            " #   Column             Non-Null Count  Dtype  \n",
            "---  ------             --------------  -----  \n",
            " 0   sepal length (cm)  150 non-null    float64\n",
            " 1   sepal width (cm)   150 non-null    float64\n",
            " 2   petal length (cm)  150 non-null    float64\n",
            " 3   petal width (cm)   150 non-null    float64\n",
            " 4   species            150 non-null    int32  \n",
            "dtypes: float64(4), int32(1)\n",
            "memory usage: 5.4 KB\n",
            "None\n",
            "Total Data Points for each spices: 150\n",
            "All together datapoints : 750\n"
          ]
        },
        {
          "data": {
            "text/html": [
              "<div>\n",
              "<style scoped>\n",
              "    .dataframe tbody tr th:only-of-type {\n",
              "        vertical-align: middle;\n",
              "    }\n",
              "\n",
              "    .dataframe tbody tr th {\n",
              "        vertical-align: top;\n",
              "    }\n",
              "\n",
              "    .dataframe thead th {\n",
              "        text-align: right;\n",
              "    }\n",
              "</style>\n",
              "<table border=\"1\" class=\"dataframe\">\n",
              "  <thead>\n",
              "    <tr style=\"text-align: right;\">\n",
              "      <th></th>\n",
              "      <th>sepal length (cm)</th>\n",
              "      <th>sepal width (cm)</th>\n",
              "      <th>petal length (cm)</th>\n",
              "      <th>petal width (cm)</th>\n",
              "      <th>species</th>\n",
              "    </tr>\n",
              "  </thead>\n",
              "  <tbody>\n",
              "    <tr>\n",
              "      <th>0</th>\n",
              "      <td>5.1</td>\n",
              "      <td>3.5</td>\n",
              "      <td>1.4</td>\n",
              "      <td>0.2</td>\n",
              "      <td>0</td>\n",
              "    </tr>\n",
              "    <tr>\n",
              "      <th>1</th>\n",
              "      <td>4.9</td>\n",
              "      <td>3.0</td>\n",
              "      <td>1.4</td>\n",
              "      <td>0.2</td>\n",
              "      <td>0</td>\n",
              "    </tr>\n",
              "    <tr>\n",
              "      <th>2</th>\n",
              "      <td>4.7</td>\n",
              "      <td>3.2</td>\n",
              "      <td>1.3</td>\n",
              "      <td>0.2</td>\n",
              "      <td>0</td>\n",
              "    </tr>\n",
              "    <tr>\n",
              "      <th>3</th>\n",
              "      <td>4.6</td>\n",
              "      <td>3.1</td>\n",
              "      <td>1.5</td>\n",
              "      <td>0.2</td>\n",
              "      <td>0</td>\n",
              "    </tr>\n",
              "    <tr>\n",
              "      <th>4</th>\n",
              "      <td>5.0</td>\n",
              "      <td>3.6</td>\n",
              "      <td>1.4</td>\n",
              "      <td>0.2</td>\n",
              "      <td>0</td>\n",
              "    </tr>\n",
              "    <tr>\n",
              "      <th>5</th>\n",
              "      <td>5.4</td>\n",
              "      <td>3.9</td>\n",
              "      <td>1.7</td>\n",
              "      <td>0.4</td>\n",
              "      <td>0</td>\n",
              "    </tr>\n",
              "    <tr>\n",
              "      <th>6</th>\n",
              "      <td>4.6</td>\n",
              "      <td>3.4</td>\n",
              "      <td>1.4</td>\n",
              "      <td>0.3</td>\n",
              "      <td>0</td>\n",
              "    </tr>\n",
              "    <tr>\n",
              "      <th>7</th>\n",
              "      <td>5.0</td>\n",
              "      <td>3.4</td>\n",
              "      <td>1.5</td>\n",
              "      <td>0.2</td>\n",
              "      <td>0</td>\n",
              "    </tr>\n",
              "    <tr>\n",
              "      <th>8</th>\n",
              "      <td>4.4</td>\n",
              "      <td>2.9</td>\n",
              "      <td>1.4</td>\n",
              "      <td>0.2</td>\n",
              "      <td>0</td>\n",
              "    </tr>\n",
              "    <tr>\n",
              "      <th>9</th>\n",
              "      <td>4.9</td>\n",
              "      <td>3.1</td>\n",
              "      <td>1.5</td>\n",
              "      <td>0.1</td>\n",
              "      <td>0</td>\n",
              "    </tr>\n",
              "    <tr>\n",
              "      <th>10</th>\n",
              "      <td>5.4</td>\n",
              "      <td>3.7</td>\n",
              "      <td>1.5</td>\n",
              "      <td>0.2</td>\n",
              "      <td>0</td>\n",
              "    </tr>\n",
              "    <tr>\n",
              "      <th>11</th>\n",
              "      <td>4.8</td>\n",
              "      <td>3.4</td>\n",
              "      <td>1.6</td>\n",
              "      <td>0.2</td>\n",
              "      <td>0</td>\n",
              "    </tr>\n",
              "    <tr>\n",
              "      <th>12</th>\n",
              "      <td>4.8</td>\n",
              "      <td>3.0</td>\n",
              "      <td>1.4</td>\n",
              "      <td>0.1</td>\n",
              "      <td>0</td>\n",
              "    </tr>\n",
              "    <tr>\n",
              "      <th>13</th>\n",
              "      <td>4.3</td>\n",
              "      <td>3.0</td>\n",
              "      <td>1.1</td>\n",
              "      <td>0.1</td>\n",
              "      <td>0</td>\n",
              "    </tr>\n",
              "    <tr>\n",
              "      <th>14</th>\n",
              "      <td>5.8</td>\n",
              "      <td>4.0</td>\n",
              "      <td>1.2</td>\n",
              "      <td>0.2</td>\n",
              "      <td>0</td>\n",
              "    </tr>\n",
              "  </tbody>\n",
              "</table>\n",
              "</div>"
            ],
            "text/plain": [
              "    sepal length (cm)  sepal width (cm)  petal length (cm)  petal width (cm)  \\\n",
              "0                 5.1               3.5                1.4               0.2   \n",
              "1                 4.9               3.0                1.4               0.2   \n",
              "2                 4.7               3.2                1.3               0.2   \n",
              "3                 4.6               3.1                1.5               0.2   \n",
              "4                 5.0               3.6                1.4               0.2   \n",
              "5                 5.4               3.9                1.7               0.4   \n",
              "6                 4.6               3.4                1.4               0.3   \n",
              "7                 5.0               3.4                1.5               0.2   \n",
              "8                 4.4               2.9                1.4               0.2   \n",
              "9                 4.9               3.1                1.5               0.1   \n",
              "10                5.4               3.7                1.5               0.2   \n",
              "11                4.8               3.4                1.6               0.2   \n",
              "12                4.8               3.0                1.4               0.1   \n",
              "13                4.3               3.0                1.1               0.1   \n",
              "14                5.8               4.0                1.2               0.2   \n",
              "\n",
              "    species  \n",
              "0         0  \n",
              "1         0  \n",
              "2         0  \n",
              "3         0  \n",
              "4         0  \n",
              "5         0  \n",
              "6         0  \n",
              "7         0  \n",
              "8         0  \n",
              "9         0  \n",
              "10        0  \n",
              "11        0  \n",
              "12        0  \n",
              "13        0  \n",
              "14        0  "
            ]
          },
          "execution_count": 36,
          "metadata": {},
          "output_type": "execute_result"
        }
      ],
      "source": [
        "# Load the dataset (load remotely, not locally)\n",
        "iris = datasets.load_iris()\n",
        "\n",
        "# Output the first 15 rows of the data\n",
        "iris_df = pd.DataFrame(iris['data'], columns = iris.feature_names)\n",
        "iris_df['species'] = iris.target\n",
        "\n",
        "# Display a summary of the table information (number of datapoints, etc.)\n",
        "print(iris_df.info())\n",
        "print('Total Data Points for each spices:',len(iris_df))\n",
        "print('All together datapoints :',iris_df.size)\n",
        "iris_df.head(15)"
      ]
    },
    {
      "cell_type": "markdown",
      "metadata": {
        "id": "wRMtsJKBaxWu"
      },
      "source": [
        "## About the dataset\n",
        "Explain what the data is in your own words. What are your features and labels? What is the mapping of your labels to the actual classes? <br>\n",
        "\n",
        "The data set includes 150 sets of data in 4 categories which are 'Sepal Length','Sepal Width','Petal Length' and, 'Petal Width'.And there are in total 3 species which are 'Iris setosa', 'Iris virginica' and 'Iris versicolor'. Each of the species has 50 data points. <br>\n",
        "\n",
        "My features would be the physical properties of the species which are 'Sepal Length','Sepal Width','Petal Length' and, 'Petal Width' and label would be 3 different species.\n",
        "\n",
        "The mapping would be based on the features length value, whichever species matches.\n"
      ]
    },
    {
      "cell_type": "markdown",
      "metadata": {
        "id": "DhKaIrZKNaHg"
      },
      "source": [
        "# Part 2: Split the dataset into train and test"
      ]
    },
    {
      "cell_type": "code",
      "execution_count": null,
      "metadata": {
        "id": "OrgogB62NcOi"
      },
      "outputs": [],
      "source": [
        "# Take the dataset and split it into our features (X) and label (y)\n",
        "X = iris.data\n",
        "y = iris.target\n",
        "# Use sklearn to split the features and labels into a training/test set. (90% train, 10% test)\n",
        "X_train, X_test, y_train, y_test = train_test_split(X, y, test_size=0.1, train_size=0.9)"
      ]
    },
    {
      "cell_type": "markdown",
      "metadata": {
        "id": "hblF-ei9Ncia"
      },
      "source": [
        "# Part 3: Logistic Regression"
      ]
    },
    {
      "cell_type": "code",
      "execution_count": null,
      "metadata": {
        "colab": {
          "base_uri": "https://localhost:8080/"
        },
        "id": "IhFhEN03Nf7o",
        "outputId": "15a94661-020b-4520-b5f3-c34fdfb042f2"
      },
      "outputs": [
        {
          "name": "stdout",
          "output_type": "stream",
          "text": [
            "   Setosa    Versicolor     Virginica\n",
            "0     1.0  8.649969e-08  1.110241e-32\n",
            "Setosa 100% and the correct prediction is Setosa.\n",
            "-------------------------------------------------\n",
            "Score : 0.5333333333333333\n"
          ]
        }
      ],
      "source": [
        "# i. Use sklearn to train a LogisticRegression model on the training set\n",
        "logreg = LogisticRegression(C=1e5,max_iter = 500)\n",
        "logreg.fit(X_train, y_train)\n",
        "\n",
        "# ii. For a sample datapoint, predict the probabilities for each possible class\n",
        "print(pd.DataFrame(logreg.predict_proba([[4.9,3.1,1.5,0.1]]), columns = ['Setosa', 'Versicolor', 'Virginica']))\n",
        "print('Setosa 100% and the correct prediction is Setosa.')\n",
        "print('-------------------------------------------------')\n",
        "# iii. Report on the score for Logistic regression model, what does the score measure?\n",
        "sc = StandardScaler()\n",
        "sc.fit(X_train)\n",
        "X_test_std = sc.transform(X_test)\n",
        "print('Score :',logreg.score(X_test_std, y_test))"
      ]
    },
    {
      "cell_type": "markdown",
      "metadata": {
        "id": "HdW8FNiD0Q2z"
      },
      "source": [
        "The score is 53%. It means out of the 10% datasets it predicted 53% of the datapoints accurately and the rest (47%) predicted wrong."
      ]
    },
    {
      "cell_type": "code",
      "execution_count": null,
      "metadata": {
        "id": "4m0JnmbO0Q2z",
        "outputId": "8991efbf-38a9-4eef-e893-97b53175577c"
      },
      "outputs": [
        {
          "name": "stdout",
          "output_type": "stream",
          "text": [
            "Coefficents : [[  3.81778207   9.09678725 -12.22222575  -5.72269387]\n",
            " [ -0.65402157  -1.26762577   1.61679342  -6.10085876]\n",
            " [ -3.16376051  -7.82916148  10.60543233  11.82355263]]\n",
            "-----------------------------------------------------\n",
            "intercepts : [  1.94552558  19.00320662 -20.9487322 ]\n"
          ]
        }
      ],
      "source": [
        "# iv. Extract the coefficents and intercepts for the boundary line(s)\n",
        "print('Coefficents :',logreg.coef_)\n",
        "print('-----------------------------------------------------')\n",
        "print('intercepts :',logreg.intercept_)"
      ]
    },
    {
      "cell_type": "markdown",
      "metadata": {
        "id": "BDUpXQN4Nilk"
      },
      "source": [
        "# Part 4: Support Vector Machine"
      ]
    },
    {
      "cell_type": "code",
      "execution_count": null,
      "metadata": {
        "colab": {
          "base_uri": "https://localhost:8080/"
        },
        "id": "U__zukpdNqiQ",
        "outputId": "5cd81a50-9137-4f36-842e-0687e9bc7c45"
      },
      "outputs": [
        {
          "name": "stdout",
          "output_type": "stream",
          "text": [
            "         Setosa  Versicolor     Virginica\n",
            "0  1.744111e-07         1.0  1.367303e-09\n",
            "Versicolor 100% and the correct prediction is Versicolor.\n",
            "---------------------------------------------------------\n"
          ]
        },
        {
          "data": {
            "text/plain": [
              "0.4"
            ]
          },
          "execution_count": 87,
          "metadata": {},
          "output_type": "execute_result"
        }
      ],
      "source": [
        "# i. Use sklearn to train a Support Vector Classifier on the training set\n",
        "SVM = svm.SVC(kernel='linear')\n",
        "SVM.fit(X_train, y_train)\n",
        "\n",
        "# ii. For a sample datapoint, predict the probabilities for each possible class\n",
        "print(pd.DataFrame(logreg.predict_proba([[4.9, 2.4, 3.3, 1.]]), columns = ['Setosa', 'Versicolor', 'Virginica']))\n",
        "print('Versicolor 100% and the correct prediction is Versicolor.')\n",
        "print('---------------------------------------------------------')\n",
        "\n",
        "# iii. Report on the score for the SVM, what does the score measure?\n",
        "SVM.score(X_test_std, y_test)"
      ]
    },
    {
      "cell_type": "markdown",
      "metadata": {
        "id": "FFEKVz1w0Q22"
      },
      "source": [
        "The score is 40%. It means out of the 10% datasets it predicted 40% of the datapoints accurately and the rest (60%) predicted wrong."
      ]
    },
    {
      "cell_type": "markdown",
      "metadata": {
        "id": "ULoL7mMBNrlS"
      },
      "source": [
        "# Part 5: Neural Network"
      ]
    },
    {
      "cell_type": "code",
      "execution_count": null,
      "metadata": {
        "colab": {
          "base_uri": "https://localhost:8080/"
        },
        "id": "CKKmODVrN9lQ",
        "outputId": "dced24f7-c6bd-45fb-c68f-87548e9228dc"
      },
      "outputs": [
        {
          "name": "stdout",
          "output_type": "stream",
          "text": [
            "Configuration 1\n",
            "          Setosa    Versicolor  Virginica\n",
            "0  1.768109e-134  9.885426e-09        1.0\n",
            "Virginica 100% and the correct prediction is Virginica.\n",
            "---------------------------------------------------------\n",
            "0.6\n"
          ]
        }
      ],
      "source": [
        "# i. Use sklearn to train a Neural Network (MLP Classifier) on the training set\n",
        "print('Configuration 1')\n",
        "NN = MLPClassifier(max_iter = 1000, activation='relu', solver='lbfgs', alpha=1e-5, hidden_layer_sizes=(16,), random_state=1)\n",
        "NN.fit(X_train, y_train)\n",
        "\n",
        "# ii. For a sample datapoint, predict the probabilities for each possible class\n",
        "print(pd.DataFrame(NN.predict_proba([[7.7, 2.8, 6.7, 2.]]), columns = ['Setosa', 'Versicolor', 'Virginica']))\n",
        "print('Virginica 100% and the correct prediction is Virginica.')\n",
        "print('---------------------------------------------------------')\n",
        "\n",
        "# iii. Report on the score for the Neural Network, what does the score measure?\n",
        "print(NN.score(X_test_std, y_test))"
      ]
    },
    {
      "cell_type": "markdown",
      "metadata": {
        "id": "k1Ns5Oh70Q23"
      },
      "source": [
        "The score is 60%. It means out of the 10% datasets it predicted 60% of the datapoints accurately and the rest (40%) predicted wrong."
      ]
    },
    {
      "cell_type": "code",
      "execution_count": null,
      "metadata": {
        "id": "RiD-4yja0Q23",
        "outputId": "cea4cfa4-112e-45f4-b104-34cc6d7204c8"
      },
      "outputs": [
        {
          "name": "stdout",
          "output_type": "stream",
          "text": [
            "Configuration 2\n",
            "0.6666666666666666\n",
            "---------------------------------------------------------\n",
            "Configuration 3\n",
            "0.8666666666666667\n",
            "---------------------------------------------------------\n",
            "Configuration 4\n",
            "0.8\n",
            "---------------------------------------------------------\n",
            "Configuration 5\n",
            "0.7333333333333333\n"
          ]
        }
      ],
      "source": [
        "# iv: Experiment with different options for the neural network, report on your best configuration (the highest score I was able to achieve was 0.8666)\n",
        "print('Configuration 2')\n",
        "NN = MLPClassifier(max_iter = 2000, activation='tanh', solver='adam', alpha=1e-5, hidden_layer_sizes=(32,), random_state=1)\n",
        "NN.fit(X_train, y_train)\n",
        "print(NN.score(X_test_std, y_test))\n",
        "print('---------------------------------------------------------')\n",
        "\n",
        "print('Configuration 3')\n",
        "NN = MLPClassifier(max_iter = 500, activation='relu', solver='adam', alpha=1e-5, hidden_layer_sizes=(64,), random_state=1)\n",
        "NN.fit(X_train, y_train)\n",
        "print(NN.score(X_test_std, y_test))\n",
        "print('---------------------------------------------------------')\n",
        "\n",
        "print('Configuration 4')\n",
        "NN = MLPClassifier(max_iter = 1000, activation='relu', solver='sgd', alpha=1e-5, hidden_layer_sizes=(64,), random_state=1)\n",
        "NN.fit(X_train, y_train)\n",
        "print(NN.score(X_test_std, y_test))\n",
        "print('---------------------------------------------------------')\n",
        "\n",
        "print('Configuration 5')\n",
        "NN = MLPClassifier(max_iter = 800, activation='logistic', solver='sgd', alpha=1e-5, hidden_layer_sizes=(16,), random_state=1)\n",
        "NN.fit(X_train, y_train)\n",
        "print(NN.score(X_test_std, y_test))\n"
      ]
    },
    {
      "cell_type": "markdown",
      "metadata": {
        "id": "6oMroRJd0Q24"
      },
      "source": [
        "In my configuration 3 I've used activation function relu and optimizer adam with 64 hidden layer, and I've got the highest score like you professor which is .8666 😉"
      ]
    },
    {
      "cell_type": "markdown",
      "metadata": {
        "id": "_bi5tDwHmC28"
      },
      "source": [
        "# Part 6: K-Nearest Neighbors"
      ]
    },
    {
      "cell_type": "code",
      "execution_count": null,
      "metadata": {
        "colab": {
          "base_uri": "https://localhost:8080/"
        },
        "id": "qCFlfJy2mCg6",
        "outputId": "e71bf88c-6418-4b7f-e289-4acf743c16cc"
      },
      "outputs": [
        {
          "name": "stdout",
          "output_type": "stream",
          "text": [
            "   Setosa  Versicolor  Virginica\n",
            "0     0.0         0.0        1.0\n",
            "Virginica 100% and the correct prediction is Virginica.\n",
            "---------------------------------------------------------\n"
          ]
        },
        {
          "data": {
            "text/plain": [
              "0.4"
            ]
          },
          "execution_count": 127,
          "metadata": {},
          "output_type": "execute_result"
        }
      ],
      "source": [
        "# i. Use sklearn to 'train' a k-Neighbors Classifier\n",
        "# Note: KNN is a nonparametric model and technically doesn't require training\n",
        "# fit will essentially load the data into the model see link below for more information\n",
        "# https://stats.stackexchange.com/questions/349842/why-do-we-need-to-fit-a-k-nearest-neighbors-classifier\n",
        "\n",
        "KNN = KNeighborsClassifier(n_neighbors=5)\n",
        "KNN.fit(X_train, y_train)\n",
        "\n",
        "# ii. For a sample datapoint, predict the probabilities for each possible class\n",
        "print(pd.DataFrame(KNN.predict_proba([[7.7, 2.8, 6.7, 2.]]), columns = ['Setosa', 'Versicolor', 'Virginica']))\n",
        "print('Virginica 100% and the correct prediction is Virginica.')\n",
        "print('---------------------------------------------------------')\n",
        "\n",
        "# iii. Report on the score for kNN, what does the score measure?\n",
        "KNN.score(X_test_std, y_test)"
      ]
    },
    {
      "cell_type": "markdown",
      "metadata": {
        "id": "yYqZO5gx0Q26"
      },
      "source": [
        "The score is 40%. It means out of the 10% datasets it predicted 40% of the datapoints accurately and the rest (60%) predicted wrong."
      ]
    },
    {
      "cell_type": "markdown",
      "metadata": {
        "id": "162Sw3LeoqE2"
      },
      "source": [
        "# Part 7: Conclusions and takeaways\n",
        "\n",
        "In your own words describe the results of the notebook. Which model(s) performed the best on the dataset? Why do you think that is? Did anything surprise you about the exercise? <br>\n",
        "\n",
        "Logistic Regression Accuracy = 53% <br>\n",
        "Support Vector Machine Accuracy = 40% <br>\n",
        "Neural Network Accuracy(best) = 86% <br>\n",
        "K-Nearest Neighbors Accuracy = 40% <br>\n",
        "\n",
        "Out of all the models neural network performs very well and gave 86% accuracy. The reason I think, in neural network model architecture there are multiple hidden layers and activation function, loss fuction, and optimizers comes into play and passing the data over and over the model learns automatically and corrects itself and that's how I think it gets a good accuracy. <br>\n",
        "Things that surprised me is using this model it knows which iris species is which like human. Machine started learning like human. Which is fascinating."
      ]
    },
    {
      "cell_type": "code",
      "execution_count": null,
      "metadata": {
        "id": "8qvZ-QLI0Q26"
      },
      "outputs": [],
      "source": [
        ""
      ]
    }
  ],
  "metadata": {
    "colab": {
      "collapsed_sections": [],
      "name": "Shohag_Mehedi_A4.ipynb",
      "provenance": [],
      "include_colab_link": true
    },
    "kernelspec": {
      "display_name": "Python 3",
      "language": "python",
      "name": "python3"
    },
    "language_info": {
      "codemirror_mode": {
        "name": "ipython",
        "version": 3
      },
      "file_extension": ".py",
      "mimetype": "text/x-python",
      "name": "python",
      "nbconvert_exporter": "python",
      "pygments_lexer": "ipython3",
      "version": "3.6.13"
    }
  },
  "nbformat": 4,
  "nbformat_minor": 0
}
